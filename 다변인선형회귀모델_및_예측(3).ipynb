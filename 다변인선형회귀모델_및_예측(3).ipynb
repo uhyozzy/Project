{
  "nbformat": 4,
  "nbformat_minor": 0,
  "metadata": {
    "colab": {
      "provenance": [],
      "authorship_tag": "ABX9TyPr2+zixI7VmXMwZ+f6oqwM",
      "include_colab_link": true
    },
    "kernelspec": {
      "name": "python3",
      "display_name": "Python 3"
    },
    "language_info": {
      "name": "python"
    }
  },
  "cells": [
    {
      "cell_type": "markdown",
      "metadata": {
        "id": "view-in-github",
        "colab_type": "text"
      },
      "source": [
        "<a href=\"https://colab.research.google.com/github/uhyozzy/Project/blob/master/%EB%8B%A4%EB%B3%80%EC%9D%B8%EC%84%A0%ED%98%95%ED%9A%8C%EA%B7%80%EB%AA%A8%EB%8D%B8_%EB%B0%8F_%EC%98%88%EC%B8%A1(3).ipynb\" target=\"_parent\"><img src=\"https://colab.research.google.com/assets/colab-badge.svg\" alt=\"Open In Colab\"/></a>"
      ]
    },
    {
      "cell_type": "markdown",
      "source": [
        "# **■ 지역환경과 하수관로 비율 선형회귀 학습 후 예측**"
      ],
      "metadata": {
        "id": "OmW90QTSDEyc"
      }
    },
    {
      "cell_type": "markdown",
      "source": [
        "# [1] TensorFlow를 이용한 **다변인 선형회귀 모델**"
      ],
      "metadata": {
        "id": "sjPeA5W58W8x"
      }
    },
    {
      "cell_type": "markdown",
      "source": [
        "참고1 : https://www.youtube.com/watch?v=9Ur7bbZtoTc 혹은 https://ndb796.tistory.com/126\n",
        "\n",
        "참고2 : https://youtu.be/ve6gtpZV83E\n",
        "\n",
        "- 다변인 선형회귀는 모델에 영향을 미치는 변인이 여러 개 일 때 사용하는 모델임. 현재 우리의 데이터에서는 변인이 '강수량', '지형', '지역환경이므로 이 모든 변인이 '하수관로비율'에 영향을 미친다고 감안해야 함.\n",
        "- 학습률을 0.000005로 설정하여 되도록 짧은 시간에 정확한 결과가 나오도록 구현"
      ],
      "metadata": {
        "id": "hL5o6skH8ezf"
      }
    },
    {
      "cell_type": "markdown",
      "source": [
        "**Base**"
      ],
      "metadata": {
        "id": "p_ZFFg9a910_"
      }
    },
    {
      "cell_type": "code",
      "source": [
        "import tensorflow as tf\n",
        "import numpy as np\n",
        "from pandas.io.parsers import read_csv"
      ],
      "metadata": {
        "id": "zSVX2Jfa8UMY"
      },
      "execution_count": 1,
      "outputs": []
    },
    {
      "cell_type": "code",
      "source": [
        "# 파일을 쉼표로 구분하여 읽어 데이터를 DataFrame 형태로 불러옴\n",
        "data_origin = read_csv('/content/지역환경,하수관로.csv', sep=',')"
      ],
      "metadata": {
        "id": "sANnwoBY8UQv"
      },
      "execution_count": 2,
      "outputs": []
    },
    {
      "cell_type": "code",
      "source": [
        "# 결측치 확인\n",
        "missing_values = data_origin.isnull().sum()\n",
        "print(missing_values)"
      ],
      "metadata": {
        "colab": {
          "base_uri": "https://localhost:8080/"
        },
        "id": "Iuru-hsc5NsK",
        "outputId": "81fad3cf-1a8f-4db8-892b-b2a9cc9398b6"
      },
      "execution_count": 3,
      "outputs": [
        {
          "output_type": "stream",
          "name": "stdout",
          "text": [
            "遺덊닾?섎㈃(%)                0\n",
            "?뱀? 硫댁쟻??%)              0\n",
            "?섏쿇 硫댁쟻??%)              0\n",
            "蹂듦컻?섏쿇 媛쒖닔(媛?            0\n",
            "留⑦? 媛쒖닔(媛?               0\n",
            "鍮쀫Ъ諛쏆씠 媛쒖닔(媛?            0\n",
            "鍮쀫Ъ ?뚰봽 媛쒖닔(媛?          30\n",
            "[MAX] ?섏닔愿濡?鍮꾩쑉(%)    183\n",
            "dtype: int64\n"
          ]
        }
      ]
    },
    {
      "cell_type": "code",
      "source": [
        "# 결측치가 있는 행 제거한 후 확인\n",
        "data = data_origin.dropna()\n",
        "missing_values2 = data.isnull().sum()\n",
        "print(missing_values2)"
      ],
      "metadata": {
        "colab": {
          "base_uri": "https://localhost:8080/"
        },
        "id": "mmRmF4ll5RVX",
        "outputId": "9d4f2a8f-3d28-4cec-8f26-d7bb7e78a4ed"
      },
      "execution_count": 4,
      "outputs": [
        {
          "output_type": "stream",
          "name": "stdout",
          "text": [
            "遺덊닾?섎㈃(%)              0\n",
            "?뱀? 硫댁쟻??%)            0\n",
            "?섏쿇 硫댁쟻??%)            0\n",
            "蹂듦컻?섏쿇 媛쒖닔(媛?          0\n",
            "留⑦? 媛쒖닔(媛?             0\n",
            "鍮쀫Ъ諛쏆씠 媛쒖닔(媛?          0\n",
            "鍮쀫Ъ ?뚰봽 媛쒖닔(媛?         0\n",
            "[MAX] ?섏닔愿濡?鍮꾩쑉(%)    0\n",
            "dtype: int64\n"
          ]
        }
      ]
    },
    {
      "cell_type": "code",
      "source": [
        "# DataFrame을 NumPy 배열로 변환하고 데이터 타입을 float32로 지정\n",
        "xy = np.array(data, dtype=np.float32)"
      ],
      "metadata": {
        "id": "Ja-gSwrY8UTA"
      },
      "execution_count": 5,
      "outputs": []
    },
    {
      "cell_type": "code",
      "source": [
        "# 7개의 변인을 입력을 받음\n",
        "x_data = xy[:, 0:7]"
      ],
      "metadata": {
        "id": "dlHlMec18UVZ"
      },
      "execution_count": 6,
      "outputs": []
    },
    {
      "cell_type": "code",
      "source": [
        "# 하수관로(MAX) 값을 입력 받음\n",
        "# 출력 데이터로 사용할 마지막 열의 데이터를 추출\n",
        "y_data = xy[:, [-1]]"
      ],
      "metadata": {
        "id": "R-HlV9cR8UXf"
      },
      "execution_count": 7,
      "outputs": []
    },
    {
      "cell_type": "code",
      "source": [
        "# 입력 데이터를 위한 TensorFlow placeholder를 생성합니다.\n",
        "# 데이터 형태는 [None, 7]과 [None, 1]인데, None은 임의의 행 개수를 의미 -> X는 2개의 변인, y는 1개의 변인\n",
        "import tensorflow.compat.v1 as tf\n",
        "tf.disable_eager_execution()\n",
        "\n",
        "X = tf.placeholder(tf.float32, shape=[None, 7], name=\"X\")\n",
        "Y = tf.placeholder(tf.float32, shape=[None, 1], name=\"Y\")"
      ],
      "metadata": {
        "id": "13XIG-av8UZw"
      },
      "execution_count": 8,
      "outputs": []
    },
    {
      "cell_type": "code",
      "source": [
        "# 가중치 변수 W를 생성. 초기값은 정규 분포를 따르는 랜덤한 값임\n",
        "W = tf.Variable(tf.random_normal([7, 1]), name=\"weight\")"
      ],
      "metadata": {
        "id": "uPxaPu5z8Ub4"
      },
      "execution_count": 9,
      "outputs": []
    },
    {
      "cell_type": "code",
      "source": [
        "# 편향 변수 b를 생성\n",
        "b = tf.Variable(tf.random_normal([1]), name=\"bias\")"
      ],
      "metadata": {
        "id": "2WwkX78U_MDH"
      },
      "execution_count": 10,
      "outputs": []
    },
    {
      "cell_type": "code",
      "source": [
        "# 선형 회귀 모델의 가설을 설정\n",
        "hypothesis = tf.matmul(X, W) + b"
      ],
      "metadata": {
        "id": "l-i4yLGR8UeQ"
      },
      "execution_count": 11,
      "outputs": []
    },
    {
      "cell_type": "code",
      "source": [
        "# 비용 함수를 설정합니다.(평균 제곱 오차를 계산 )\n",
        "cost = tf.reduce_mean(tf.square(hypothesis - Y))"
      ],
      "metadata": {
        "id": "nt1TW9458UgY"
      },
      "execution_count": 12,
      "outputs": []
    },
    {
      "cell_type": "code",
      "source": [
        "# 최적화 함수를 설정\n",
        "\n",
        "# 경사 하강법 최적화기를 생성하고 학습률을 설정\n",
        "optimizer = tf.train.GradientDescentOptimizer(learning_rate=0.000005)\n",
        "# 비용 함수를 최소화하기 위한 훈련 오퍼레이션을 생성\n",
        "train = optimizer.minimize(cost)"
      ],
      "metadata": {
        "id": "ofsWc7ZA8Uiy"
      },
      "execution_count": 13,
      "outputs": []
    },
    {
      "cell_type": "code",
      "source": [
        "# 세션을 생성\n",
        "sess = tf.Session()"
      ],
      "metadata": {
        "id": "k8SgTD_g8UlC"
      },
      "execution_count": 14,
      "outputs": []
    },
    {
      "cell_type": "code",
      "source": [
        "# 글로벌 변수를 초기화\n",
        "sess.run(tf.global_variables_initializer())"
      ],
      "metadata": {
        "id": "VIAVOino8UnZ"
      },
      "execution_count": 15,
      "outputs": []
    },
    {
      "cell_type": "markdown",
      "source": [
        "**학습 수행**\n",
        "- ※주의※ Nan값 있으면 학습이 제대로 수행안되니 결측치 필수로 제거 후 학습 진행"
      ],
      "metadata": {
        "id": "gL--sEq7_60e"
      }
    },
    {
      "cell_type": "code",
      "source": [
        "# 학습을 수행합니다.\n",
        "\n",
        "for step in range(100001):\n",
        "    cost_, hypo_, _ = sess.run([cost, hypothesis, train], feed_dict={X: x_data, Y: y_data})\n",
        "    if step % 500 == 0:\n",
        "        print(\"#\", step, \" 손실 비용: \", cost_)\n",
        "        print(\"- 하수관로비율(MAX): \", hypo_[0])\n",
        "\n",
        "# 100001번 반복하는 학습 루프\n",
        "# 학습을 수행하면서 비용, 가설 값, 훈련을 실행하여 비용 최소화를 진행\n",
        "# 매 500번째 스텝마다 학습 상황에 대한 내용을 출력"
      ],
      "metadata": {
        "id": "H5IW5v-A8Upw"
      },
      "execution_count": null,
      "outputs": []
    },
    {
      "cell_type": "markdown",
      "source": [
        "**학습 모델 저장**"
      ],
      "metadata": {
        "id": "0w6_PnCG_8yG"
      }
    },
    {
      "cell_type": "code",
      "source": [
        "saver = tf.train.Saver()\n",
        "save_path = saver.save(sess, \"./saved.cpkt\")\n",
        "print('학습된 모델을 저장했습니다.')\n",
        "\n",
        "# 모델 저장을 위한 Saver 객체를 생성\n",
        "# 학습된 모델을 저장\n",
        "# 저장 완료 메시지를 출력"
      ],
      "metadata": {
        "id": "yDxs8k538UsK",
        "colab": {
          "base_uri": "https://localhost:8080/"
        },
        "outputId": "b5dd42aa-c401-4153-ac7d-b28dd7ab89e8"
      },
      "execution_count": 17,
      "outputs": [
        {
          "output_type": "stream",
          "name": "stdout",
          "text": [
            "학습된 모델을 저장했습니다.\n"
          ]
        }
      ]
    },
    {
      "cell_type": "markdown",
      "source": [
        "# [2] 다변인 선형회귀를 활용한 **하수관로 비율 예측**"
      ],
      "metadata": {
        "id": "7BVtCLdb9jin"
      }
    },
    {
      "cell_type": "markdown",
      "source": [
        "**Base**"
      ],
      "metadata": {
        "id": "_oTMxoh9AKj2"
      }
    },
    {
      "cell_type": "code",
      "source": [
        "import tensorflow as tf\n",
        "import numpy as np"
      ],
      "metadata": {
        "id": "EgzVOnlr9oxI"
      },
      "execution_count": 18,
      "outputs": []
    },
    {
      "cell_type": "code",
      "source": [
        "# 플레이스 홀더를 설정.\n",
        "# 입력 데이터와 출력 데이터를 위한 TensorFlow placeholder를 생성.\n",
        "# 입력 데이터는 [None, 7] 모양이고 출력 데이터는 [None, 1] 모양임.\n",
        "\n",
        "import tensorflow.compat.v1 as tf\n",
        "tf.disable_eager_execution()\n",
        "\n",
        "X = tf.placeholder(tf.float32, shape=[None, 7])\n",
        "Y = tf.placeholder(tf.float32, shape=[None, 1])"
      ],
      "metadata": {
        "id": "CbMCsfkp9pVq"
      },
      "execution_count": 19,
      "outputs": []
    },
    {
      "cell_type": "code",
      "source": [
        "#가중치와 편향 변수를 생성. 가중치의 모양은 [7, 1]이고 편향의 모양은 [1]\n",
        "\n",
        "W = tf.Variable(tf.random_normal([7, 1]), name=\"weight\")\n",
        "b = tf.Variable(tf.random_normal([1]), name=\"bias\")"
      ],
      "metadata": {
        "id": "6cVTgoUT9pTX"
      },
      "execution_count": 20,
      "outputs": []
    },
    {
      "cell_type": "code",
      "source": [
        "# 선형 회귀 모델의 가설을 설정\n",
        "hypothesis = tf.matmul(X, W) + b"
      ],
      "metadata": {
        "id": "JQqx_LO49pQ_"
      },
      "execution_count": 21,
      "outputs": []
    },
    {
      "cell_type": "code",
      "source": [
        "# TensorFlow 그래프와 세션 설정\n",
        "tf.compat.v1.disable_eager_execution()\n",
        "sess = tf.compat.v1.Session()\n",
        "\n",
        "# 학습 모델 불러오기\n",
        "save_path = \"./saved.cpkt\"\n",
        "saver = tf.compat.v1.train.import_meta_graph(save_path + \".meta\")\n",
        "saver.restore(sess, save_path)\n",
        "\n",
        "# 그래프로부터 텐서 가져오기\n",
        "graph = tf.compat.v1.get_default_graph()\n",
        "X = graph.get_tensor_by_name(\"X:0\")  # Placeholder 이름 변경\n",
        "hypothesis = graph.get_tensor_by_name(\"add:0\")  # hypothesis 텐서 이름 변경\n"
      ],
      "metadata": {
        "id": "A9050Owi9pOv"
      },
      "execution_count": 22,
      "outputs": []
    },
    {
      "cell_type": "code",
      "source": [
        "# 사용자로부터 강수량을 입력받습니다.\n",
        "\n",
        "impervious = float(input('불투수면 (%) : '))\n",
        "greenery = float(input('녹지 면적율(%) : '))\n",
        "river = float(input('하천 면적율(%): '))\n",
        "covered_river = float(input('복개하천 개수(개) : '))\n",
        "manhole = float(input('맨홀 개수(개)) : '))\n",
        "rain_gutter = float(input('빗물 1받이 개수(개) : '))\n",
        "pump = float(input('빗물 펌프 개수(개) : '))"
      ],
      "metadata": {
        "id": "G1uTXjtP9pMU",
        "colab": {
          "base_uri": "https://localhost:8080/"
        },
        "outputId": "f7dce702-7bc0-44e5-f67e-da1ddc974fff"
      },
      "execution_count": 23,
      "outputs": [
        {
          "name": "stdout",
          "output_type": "stream",
          "text": [
            "불투수면 (%) : 0.53\n",
            "녹지 면적율(%) : 0.03\n",
            "하천 면적율(%): 0.24\n",
            "복개하천 개수(개) : 1\n",
            "맨홀 개수(개)) : 12322\n",
            "빗물 1받이 개수(개) : 24000\n",
            "빗물 펌프 개수(개) : 0\n"
          ]
        }
      ]
    },
    {
      "cell_type": "code",
      "source": [
        "# 입력 데이터를 준비\n",
        "data = np.array([[impervious,greenery,river,covered_river,\n",
        "                  manhole,rain_gutter,pump]], dtype=np.float32)\n",
        "\n",
        "feed_dict = {X: data}\n",
        "prediction = sess.run(hypothesis, feed_dict=feed_dict)\n",
        "\n",
        "print(\"예측된 하수관로비율(MAX):\", prediction[0][0])"
      ],
      "metadata": {
        "id": "JMF8dNLN-Viq",
        "colab": {
          "base_uri": "https://localhost:8080/"
        },
        "outputId": "7c7b273a-c0f4-4494-b405-f454ff9d8943"
      },
      "execution_count": 24,
      "outputs": [
        {
          "output_type": "stream",
          "name": "stdout",
          "text": [
            "예측된 하수관로비율(MAX): -1985.0968\n"
          ]
        }
      ]
    }
  ]
}